{
 "cells": [
  {
   "cell_type": "markdown",
   "id": "1566f718",
   "metadata": {},
   "source": [
    "### Interleaved training study\n",
    "\n",
    "Code to test what amount of interleaving is optimal when learning two datasets simultaneously."
   ]
  },
  {
   "cell_type": "code",
   "execution_count": null,
   "id": "fc689d58",
   "metadata": {},
   "outputs": [],
   "source": [
    "import matplotlib.pyplot as plt\n",
    "import tensorflow as tf\n",
    "import tensorflow_datasets as tfds\n",
    "from generative_model import VAE, build_encoder_decoder_small\n",
    "from generative_tests import check_generative_recall\n",
    "from sleep_utils import *\n",
    "import config\n",
    "from tensorflow import keras\n",
    "import numpy as np\n",
    "from random import randrange\n",
    "from PIL import Image\n",
    "import matplotlib.backends.backend_pdf\n",
    "from generative_model import models_dict\n",
    "import matplotlib\n",
    "from sklearn.decomposition import PCA\n",
    "from sklearn.manifold import TSNE\n",
    "import random\n",
    "from tensorflow.keras.datasets import mnist, fashion_mnist\n",
    "from sklearn.model_selection import train_test_split"
   ]
  },
  {
   "cell_type": "code",
   "execution_count": null,
   "id": "1dce8005",
   "metadata": {},
   "outputs": [],
   "source": [
    "def interleave_datasets(mnist_data, fashion_data, n):\n",
    "    mnist_x = mnist_data\n",
    "    fashion_x = fashion_data\n",
    "\n",
    "    if len(mnist_x) != len(fashion_x):\n",
    "        raise ValueError(\"Datasets should have the same number of samples\")\n",
    "\n",
    "    combined_x = []\n",
    "\n",
    "    total_samples = len(mnist_x)\n",
    "    idx = 0\n",
    "\n",
    "    while idx < total_samples:\n",
    "        combined_x.extend(mnist_x[idx:idx+n])\n",
    "        combined_x.extend(fashion_x[idx:idx+n])\n",
    "        idx += n\n",
    "\n",
    "    combined_x = np.array(combined_x)\n",
    "\n",
    "    return combined_x\n"
   ]
  },
  {
   "cell_type": "code",
   "execution_count": null,
   "id": "800690b1",
   "metadata": {
    "scrolled": true
   },
   "outputs": [],
   "source": [
    "def compute_reconstruction_error(vae, test_data):\n",
    "    encs = vae.encoder.predict(test_data)\n",
    "    reconstructed_data = vae.decoder.predict(encs[0])\n",
    "    mse = np.mean((test_data - reconstructed_data) ** 2)\n",
    "    return mse\n",
    "\n",
    "def train_mnist_vae(train_data, dataset, generative_epochs=50, latent_dim=20, kl_weighting=1, learning_rate=0.01):\n",
    "    encoder, decoder = models_dict[dataset](latent_dim=latent_dim)\n",
    "    vae = VAE(encoder, decoder, kl_weighting)\n",
    "    opt = keras.optimizers.Adam(learning_rate=learning_rate, jit_compile=False)\n",
    "    vae.compile(optimizer=opt)\n",
    "    history = vae.fit(train_data, epochs=generative_epochs, verbose=1,\n",
    "                      batch_size=1, shuffle=False)\n",
    "    vae.encoder.save('encoder.h5')\n",
    "    vae.decoder.save('decoder.h5')\n",
    "    return vae\n",
    "\n",
    "mnist_train_x, mnist_test_x, fashion_train_x, fashion_test_x = prepare_datasets(split_by_digits=False, \n",
    "                                                                      split_by_inversion=True)\n",
    "mnist_train_x = mnist_train_x[0:20000]\n",
    "mnist_test_x = mnist_test_x[0:1000]\n",
    "fashion_train_x = fashion_train_x[0:20000]\n",
    "fashion_test_x = fashion_test_x[0:1000]\n",
    "\n",
    "def run_experiment(random_seed, plot=False):\n",
    "    np.random.seed(random_seed)\n",
    "\n",
    "    # Test different values of n in the range 1 to 100\n",
    "    reconstruction_errors = []\n",
    "\n",
    "    for n in [1, 5, 10, 50]:\n",
    "        # Combine and interleave the datasets\n",
    "        train_x = interleave_datasets(mnist_train_x, fashion_train_x, n)\n",
    "\n",
    "        # Train the VAE\n",
    "        vae = train_mnist_vae(train_x, 'mnist', generative_epochs=1, learning_rate=0.001)\n",
    "\n",
    "        # Compute the mean reconstruction error for MNIST and Fashion-MNIST\n",
    "        mnist_error = compute_reconstruction_error(vae, mnist_test_x)\n",
    "        fashion_error = compute_reconstruction_error(vae, fashion_test_x)\n",
    "\n",
    "        # Store the errors\n",
    "        reconstruction_errors.append((n, mnist_error, fashion_error))\n",
    "        print(f\"Interleaving factor {n}: MNIST error = {mnist_error}, Fashion-MNIST error = {fashion_error}\")\n",
    "        \n",
    "        if plot is True:\n",
    "            check_generative_recall(vae, mnist_test_x, noise_level=0.15)\n",
    "            check_generative_recall(vae, fashion_test_x, noise_level=0.15)\n",
    "            plot_error_dists(vae, mnist_test_x, fashion_test_x)\n",
    "    \n",
    "    return reconstruction_errors\n"
   ]
  },
  {
   "cell_type": "code",
   "execution_count": null,
   "id": "cdc28e9b",
   "metadata": {
    "scrolled": false
   },
   "outputs": [],
   "source": [
    "num_seeds = 1\n",
    "seeds = np.random.randint(0, 10000, size=num_seeds)\n",
    "all_errors = []\n",
    "\n",
    "for seed in seeds:\n",
    "    print(f\"Running experiment with random seed: {seed}\")\n",
    "    errors = run_experiment(seed, plot=True)\n",
    "    all_errors.append(errors)\n",
    "\n",
    "mean_errors = np.mean(all_errors, axis=0)\n",
    "std_errors = np.std(all_errors, axis=0)\n"
   ]
  },
  {
   "cell_type": "code",
   "execution_count": null,
   "id": "722380e4",
   "metadata": {},
   "outputs": [],
   "source": [
    "plt.figure(figsize=(10, 6))\n",
    "\n",
    "n_values = [1, 5, 10, 50]\n",
    "plt.errorbar(n_values, mean_errors[:, 1], yerr=std_errors[:, 1], label='MNIST', marker='o', capsize=5)\n",
    "plt.errorbar(n_values, mean_errors[:, 2], yerr=std_errors[:, 2], label='Fashion-MNIST', marker='o', capsize=5)\n",
    "\n",
    "plt.xlabel('Interleaving Factor (n)')\n",
    "plt.ylabel('Reconstruction Error')\n",
    "plt.title('Reconstruction Error vs. Interleaving Factor (with error bars)')\n",
    "plt.legend()\n",
    "\n",
    "plt.show()"
   ]
  }
 ],
 "metadata": {
  "kernelspec": {
   "display_name": "Python 3 (ipykernel)",
   "language": "python",
   "name": "python3"
  },
  "language_info": {
   "codemirror_mode": {
    "name": "ipython",
    "version": 3
   },
   "file_extension": ".py",
   "mimetype": "text/x-python",
   "name": "python",
   "nbconvert_exporter": "python",
   "pygments_lexer": "ipython3",
   "version": "3.10.9"
  }
 },
 "nbformat": 4,
 "nbformat_minor": 5
}
